{
 "cells": [
  {
   "cell_type": "code",
   "execution_count": 1,
   "id": "44156a49",
   "metadata": {},
   "outputs": [],
   "source": [
    "import pandas as pd\n",
    "import numpy as np\n",
    "import matplotlib.pyplot as plt"
   ]
  },
  {
   "cell_type": "code",
   "execution_count": 2,
   "id": "9608ea4c",
   "metadata": {},
   "outputs": [],
   "source": [
    "data=pd.read_pickle('dataset.pkl')['data']"
   ]
  },
  {
   "cell_type": "code",
   "execution_count": 3,
   "id": "378fe84b",
   "metadata": {},
   "outputs": [
    {
     "data": {
      "text/plain": [
       "(784, 50000)"
      ]
     },
     "execution_count": 3,
     "metadata": {},
     "output_type": "execute_result"
    }
   ],
   "source": [
    "data = data.reshape((60000, 784))/255\n",
    "data_train=data[:50000].T\n",
    "data_test=data[50000:].T\n",
    "data_train.shape"
   ]
  },
  {
   "cell_type": "code",
   "execution_count": 4,
   "id": "4e8d0697",
   "metadata": {},
   "outputs": [],
   "source": [
    "labels=pd.read_pickle('dataset.pkl')['labels']\n",
    "y_train=labels[:50000]"
   ]
  },
  {
   "cell_type": "code",
   "execution_count": 5,
   "id": "9ba2a1d8",
   "metadata": {},
   "outputs": [
    {
     "data": {
      "text/plain": [
       "(50000,)"
      ]
     },
     "execution_count": 5,
     "metadata": {},
     "output_type": "execute_result"
    }
   ],
   "source": [
    "y_train.shape"
   ]
  },
  {
   "cell_type": "code",
   "execution_count": 6,
   "id": "d9b972bc",
   "metadata": {},
   "outputs": [
    {
     "data": {
      "text/plain": [
       "array([9, 0, 0, ..., 5, 1, 7], dtype=uint8)"
      ]
     },
     "execution_count": 6,
     "metadata": {},
     "output_type": "execute_result"
    }
   ],
   "source": [
    "y_train"
   ]
  },
  {
   "cell_type": "code",
   "execution_count": 7,
   "id": "46dfdcfa",
   "metadata": {},
   "outputs": [],
   "source": [
    "def random_initialization():\n",
    "    W1 = np.random.randn(17, 784)*0.01\n",
    "    b1 = np.zeros((17,1))\n",
    "    W2 = np.random.randn(10, 17)*0.02\n",
    "    b2 = np.zeros((10,1))\n",
    "\n",
    "    return W1, b1, W2, b2\n"
   ]
  },
  {
   "cell_type": "code",
   "execution_count": 8,
   "id": "65e9dbd6",
   "metadata": {},
   "outputs": [],
   "source": [
    "def ReLu(z):\n",
    "    return np.maximum(z,0)"
   ]
  },
  {
   "cell_type": "code",
   "execution_count": 9,
   "id": "6cb69b37",
   "metadata": {},
   "outputs": [],
   "source": [
    "def softmax(z):\n",
    "    a = np.exp(z) / sum(np.exp(z))\n",
    "    return a"
   ]
  },
  {
   "cell_type": "code",
   "execution_count": 10,
   "id": "f9237863",
   "metadata": {},
   "outputs": [],
   "source": [
    "def forward_prop(W1, b1, W2, b2, X):\n",
    "    Z1 = W1.dot(X) + b1\n",
    "    A1 = ReLu(Z1)\n",
    "    Z2 = W2.dot(A1) + b2\n",
    "    A2 = softmax(Z2)\n",
    "    return Z1, A1, Z2, A2"
   ]
  },
  {
   "cell_type": "code",
   "execution_count": 11,
   "id": "28e18f60",
   "metadata": {},
   "outputs": [],
   "source": [
    "def d_relu(Z):\n",
    "    return Z > 0"
   ]
  },
  {
   "cell_type": "code",
   "execution_count": 12,
   "id": "e2b1452d",
   "metadata": {},
   "outputs": [],
   "source": [
    "def onehot_encoding(data, num_labels):\n",
    "    one_hot_encoded = np.zeros((data.shape[0], num_labels))\n",
    "    \n",
    "    for i, label in enumerate(data):\n",
    "        one_hot_encoded[i, label] = 1\n",
    "\n",
    "    return one_hot_encoded.T\n"
   ]
  },
  {
   "cell_type": "code",
   "execution_count": 13,
   "id": "d5e64f8c",
   "metadata": {},
   "outputs": [],
   "source": [
    "def backward_prop(Z1, A1, Z2, A2, W1, W2, X, Y):\n",
    "    one_hot_Y = onehot_encoding(Y,10)\n",
    "    m=Y.size\n",
    "    dZ2 = A2 - one_hot_Y\n",
    "    dW2 = 1 / m * dZ2.dot(A1.T)\n",
    "    db2 = 1 / m * np.sum(dZ2)\n",
    "    dZ1 = W2.T.dot(dZ2) * d_relu(Z1)\n",
    "    dW1 = 1 / m * dZ1.dot(X.T)\n",
    "    db1 = 1 / m * np.sum(dZ1)\n",
    "    return dW1, db1, dW2, db2"
   ]
  },
  {
   "cell_type": "code",
   "execution_count": 14,
   "id": "cc168c4e",
   "metadata": {},
   "outputs": [],
   "source": [
    "def updates(W1, b1, W2, b2, dW1, db1, dW2, db2, l):\n",
    "    W1 = W1 - l*dW1\n",
    "    b1 = b1 - l*db1    \n",
    "    W2 = W2 - l*dW2  \n",
    "    b2 = b2 - l*db2    \n",
    "    return W1, b1, W2, b2"
   ]
  },
  {
   "cell_type": "code",
   "execution_count": 15,
   "id": "ebe4d290",
   "metadata": {},
   "outputs": [],
   "source": [
    "def gradient_descent(X, Y, alpha, epochs):\n",
    "    W1, b1, W2, b2 = random_initialization()\n",
    "    \n",
    "    for i in range(epochs):\n",
    "        Z1, A1, Z2, A2 = forward_prop(W1, b1, W2, b2, X)\n",
    "        dW1, db1, dW2, db2 = backward_prop(Z1, A1, Z2, A2, W1, W2, X, Y)\n",
    "        W1, b1, W2, b2 = updates(W1, b1, W2, b2, dW1, db1, dW2, db2, alpha)\n",
    "    return W1, b1, W2, b2"
   ]
  },
  {
   "cell_type": "code",
   "execution_count": 16,
   "id": "9cfbc484",
   "metadata": {},
   "outputs": [],
   "source": [
    "W1, b1, W2, b2 = gradient_descent(data_train, y_train, 0.1,1000)"
   ]
  },
  {
   "cell_type": "code",
   "execution_count": 17,
   "id": "916b7743",
   "metadata": {},
   "outputs": [],
   "source": [
    "#def testforward_prop(W1, b1, W2, b2, X):\n",
    "Z1 = W1.dot(data_train) + b1\n",
    "A1 = ReLu(Z1)\n",
    "Z2 = W2.dot(A1) + b2\n",
    "A2 = softmax(Z2)"
   ]
  },
  {
   "cell_type": "code",
   "execution_count": 18,
   "id": "a6f02aa6",
   "metadata": {},
   "outputs": [
    {
     "data": {
      "text/plain": [
       "0.83812"
      ]
     },
     "execution_count": 18,
     "metadata": {},
     "output_type": "execute_result"
    }
   ],
   "source": [
    "sum(y_train == np.argmax(A2, axis=0))/y_train.shape[0]"
   ]
  },
  {
   "cell_type": "code",
   "execution_count": 19,
   "id": "ec392134",
   "metadata": {},
   "outputs": [
    {
     "data": {
      "text/plain": [
       "array([9, 0, 3, ..., 5, 1, 7])"
      ]
     },
     "execution_count": 19,
     "metadata": {},
     "output_type": "execute_result"
    }
   ],
   "source": [
    "np.argmax(A2, axis=0)"
   ]
  },
  {
   "cell_type": "code",
   "execution_count": 20,
   "id": "3011d052",
   "metadata": {},
   "outputs": [],
   "source": [
    "y_test=labels[50000:]"
   ]
  },
  {
   "cell_type": "code",
   "execution_count": 21,
   "id": "ab2c1b8f",
   "metadata": {},
   "outputs": [
    {
     "data": {
      "text/plain": [
       "(784, 10000)"
      ]
     },
     "execution_count": 21,
     "metadata": {},
     "output_type": "execute_result"
    }
   ],
   "source": [
    "data_test.shape"
   ]
  },
  {
   "cell_type": "code",
   "execution_count": 22,
   "id": "078fb478",
   "metadata": {},
   "outputs": [],
   "source": [
    "Z1 = W1.dot(data_test) + b1\n",
    "A1 = ReLu(Z1)\n",
    "Z2 = W2.dot(A1) + b2\n",
    "A2 = softmax(Z2)\n"
   ]
  },
  {
   "cell_type": "code",
   "execution_count": 23,
   "id": "7eeef0d4",
   "metadata": {
    "scrolled": true
   },
   "outputs": [
    {
     "data": {
      "text/plain": [
       "9"
      ]
     },
     "execution_count": 23,
     "metadata": {},
     "output_type": "execute_result"
    }
   ],
   "source": [
    "np.argmax(A2[:,0])"
   ]
  },
  {
   "cell_type": "code",
   "execution_count": 24,
   "id": "a93ee427",
   "metadata": {},
   "outputs": [
    {
     "data": {
      "text/plain": [
       "(10000,)"
      ]
     },
     "execution_count": 24,
     "metadata": {},
     "output_type": "execute_result"
    }
   ],
   "source": [
    "y_test.shape"
   ]
  },
  {
   "cell_type": "code",
   "execution_count": 25,
   "id": "aa65b42f",
   "metadata": {},
   "outputs": [
    {
     "data": {
      "text/plain": [
       "0.8287"
      ]
     },
     "execution_count": 25,
     "metadata": {},
     "output_type": "execute_result"
    }
   ],
   "source": [
    "sum(y_test == np.argmax(A2, axis=0))/y_test.shape[0]"
   ]
  },
  {
   "cell_type": "code",
   "execution_count": null,
   "id": "2789c7da",
   "metadata": {},
   "outputs": [],
   "source": []
  }
 ],
 "metadata": {
  "kernelspec": {
   "display_name": "Python 3 (ipykernel)",
   "language": "python",
   "name": "python3"
  },
  "language_info": {
   "codemirror_mode": {
    "name": "ipython",
    "version": 3
   },
   "file_extension": ".py",
   "mimetype": "text/x-python",
   "name": "python",
   "nbconvert_exporter": "python",
   "pygments_lexer": "ipython3",
   "version": "3.9.6"
  }
 },
 "nbformat": 4,
 "nbformat_minor": 5
}
