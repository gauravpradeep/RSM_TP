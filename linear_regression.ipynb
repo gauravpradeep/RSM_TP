{
 "cells": [
  {
   "cell_type": "markdown",
   "id": "0c5b839a",
   "metadata": {},
   "source": [
    "Gaurav Pradeep-Group 1\n",
    "Linear Regression Model to predict the sale price of houses using 10 input features"
   ]
  },
  {
   "cell_type": "code",
   "execution_count": 1,
   "id": "22595307",
   "metadata": {},
   "outputs": [],
   "source": [
    "import pandas as pd\n",
    "import numpy as np\n",
    "import matplotlib.pyplot as plt"
   ]
  },
  {
   "cell_type": "code",
   "execution_count": 2,
   "id": "5d55580a",
   "metadata": {},
   "outputs": [
    {
     "data": {
      "text/html": [
       "<div>\n",
       "<style scoped>\n",
       "    .dataframe tbody tr th:only-of-type {\n",
       "        vertical-align: middle;\n",
       "    }\n",
       "\n",
       "    .dataframe tbody tr th {\n",
       "        vertical-align: top;\n",
       "    }\n",
       "\n",
       "    .dataframe thead th {\n",
       "        text-align: right;\n",
       "    }\n",
       "</style>\n",
       "<table border=\"1\" class=\"dataframe\">\n",
       "  <thead>\n",
       "    <tr style=\"text-align: right;\">\n",
       "      <th></th>\n",
       "      <th>OverallQual</th>\n",
       "      <th>GrLivArea</th>\n",
       "      <th>GarageCars</th>\n",
       "      <th>GarageArea</th>\n",
       "      <th>TotalBsmtSF</th>\n",
       "      <th>1stFlrSF</th>\n",
       "      <th>FullBath</th>\n",
       "      <th>TotRmsAbvGrd</th>\n",
       "      <th>YearBuilt</th>\n",
       "      <th>YearRemodAdd</th>\n",
       "      <th>SalePrice</th>\n",
       "    </tr>\n",
       "  </thead>\n",
       "  <tbody>\n",
       "    <tr>\n",
       "      <th>0</th>\n",
       "      <td>7</td>\n",
       "      <td>1820</td>\n",
       "      <td>1</td>\n",
       "      <td>240</td>\n",
       "      <td>1026</td>\n",
       "      <td>1133</td>\n",
       "      <td>2</td>\n",
       "      <td>8</td>\n",
       "      <td>1925</td>\n",
       "      <td>1950</td>\n",
       "      <td>184000</td>\n",
       "    </tr>\n",
       "    <tr>\n",
       "      <th>1</th>\n",
       "      <td>7</td>\n",
       "      <td>1646</td>\n",
       "      <td>1</td>\n",
       "      <td>240</td>\n",
       "      <td>918</td>\n",
       "      <td>918</td>\n",
       "      <td>2</td>\n",
       "      <td>7</td>\n",
       "      <td>1941</td>\n",
       "      <td>1950</td>\n",
       "      <td>164000</td>\n",
       "    </tr>\n",
       "    <tr>\n",
       "      <th>2</th>\n",
       "      <td>5</td>\n",
       "      <td>1316</td>\n",
       "      <td>2</td>\n",
       "      <td>484</td>\n",
       "      <td>926</td>\n",
       "      <td>926</td>\n",
       "      <td>1</td>\n",
       "      <td>6</td>\n",
       "      <td>1929</td>\n",
       "      <td>2001</td>\n",
       "      <td>130000</td>\n",
       "    </tr>\n",
       "    <tr>\n",
       "      <th>3</th>\n",
       "      <td>10</td>\n",
       "      <td>2402</td>\n",
       "      <td>3</td>\n",
       "      <td>672</td>\n",
       "      <td>3094</td>\n",
       "      <td>2402</td>\n",
       "      <td>2</td>\n",
       "      <td>10</td>\n",
       "      <td>2008</td>\n",
       "      <td>2008</td>\n",
       "      <td>555000</td>\n",
       "    </tr>\n",
       "    <tr>\n",
       "      <th>4</th>\n",
       "      <td>7</td>\n",
       "      <td>1253</td>\n",
       "      <td>2</td>\n",
       "      <td>402</td>\n",
       "      <td>1237</td>\n",
       "      <td>1253</td>\n",
       "      <td>2</td>\n",
       "      <td>6</td>\n",
       "      <td>1995</td>\n",
       "      <td>1996</td>\n",
       "      <td>176000</td>\n",
       "    </tr>\n",
       "  </tbody>\n",
       "</table>\n",
       "</div>"
      ],
      "text/plain": [
       "   OverallQual  GrLivArea  GarageCars  GarageArea  TotalBsmtSF  1stFlrSF  \\\n",
       "0            7       1820           1         240         1026      1133   \n",
       "1            7       1646           1         240          918       918   \n",
       "2            5       1316           2         484          926       926   \n",
       "3           10       2402           3         672         3094      2402   \n",
       "4            7       1253           2         402         1237      1253   \n",
       "\n",
       "   FullBath  TotRmsAbvGrd  YearBuilt  YearRemodAdd  SalePrice  \n",
       "0         2             8       1925          1950     184000  \n",
       "1         2             7       1941          1950     164000  \n",
       "2         1             6       1929          2001     130000  \n",
       "3         2            10       2008          2008     555000  \n",
       "4         2             6       1995          1996     176000  "
      ]
     },
     "execution_count": 2,
     "metadata": {},
     "output_type": "execute_result"
    }
   ],
   "source": [
    "data=pd.read_csv('train.csv')\n",
    "data.head()"
   ]
  },
  {
   "cell_type": "code",
   "execution_count": 3,
   "id": "162f0960",
   "metadata": {},
   "outputs": [],
   "source": [
    "x=data.iloc[:,:10]\n",
    "y=data.iloc[:,10]"
   ]
  },
  {
   "cell_type": "code",
   "execution_count": 4,
   "id": "3584410c",
   "metadata": {},
   "outputs": [],
   "source": [
    "w_vec=np.zeros(10)\n",
    "x_vec=np.zeros((1168,10))\n",
    "y_vec=np.zeros((1168,1))"
   ]
  },
  {
   "cell_type": "code",
   "execution_count": 5,
   "id": "1feeaff4",
   "metadata": {},
   "outputs": [
    {
     "name": "stdout",
     "output_type": "stream",
     "text": [
      "[[184000.]\n",
      " [164000.]\n",
      " [130000.]\n",
      " ...\n",
      " [115000.]\n",
      " [165500.]\n",
      " [180500.]]\n"
     ]
    }
   ],
   "source": [
    "for i in range(len(data)):\n",
    "    y_vec[i][0]=data.iloc[i,10]\n",
    "print(y_vec)"
   ]
  },
  {
   "cell_type": "code",
   "execution_count": 6,
   "id": "10e83d83",
   "metadata": {},
   "outputs": [
    {
     "name": "stdout",
     "output_type": "stream",
     "text": [
      "[[7.000e+00 1.820e+03 1.000e+00 ... 8.000e+00 1.925e+03 1.950e+03]\n",
      " [7.000e+00 1.646e+03 1.000e+00 ... 7.000e+00 1.941e+03 1.950e+03]\n",
      " [5.000e+00 1.316e+03 2.000e+00 ... 6.000e+00 1.929e+03 2.001e+03]\n",
      " ...\n",
      " [5.000e+00 7.890e+02 1.000e+00 ... 5.000e+00 1.948e+03 1.950e+03]\n",
      " [6.000e+00 1.661e+03 1.000e+00 ... 8.000e+00 1.955e+03 1.996e+03]\n",
      " [7.000e+00 1.442e+03 2.000e+00 ... 5.000e+00 1.990e+03 1.990e+03]]\n"
     ]
    }
   ],
   "source": [
    "for i in range(len(data)):\n",
    "    for j in range(10):\n",
    "        x_vec[i][j]=data.iloc[i,j]\n",
    "print(x_vec)"
   ]
  },
  {
   "cell_type": "code",
   "execution_count": 7,
   "id": "b1ca4967",
   "metadata": {},
   "outputs": [],
   "source": [
    "def cost_fn(w_vec,b):\n",
    "    j=0\n",
    "    for i in range(len(data)):\n",
    "        j+=((np.dot(w_vec,x_vec[i])+b)-y_vec[i][0])**2\n",
    "    j=j/(2*float(len(data)))\n",
    "    \n",
    "    return j"
   ]
  },
  {
   "cell_type": "code",
   "execution_count": 8,
   "id": "b8769e79",
   "metadata": {},
   "outputs": [],
   "source": [
    "def grad_descent(w_c,b_c,l):\n",
    "    dj_dw=np.zeros(10)\n",
    "    dj_db=0\n",
    "    for i in range(10):\n",
    "        for j in range(len(data)):\n",
    "            dj_dw[i]+=((np.dot(w_c,x_vec[j])+b_c)-y_vec[j][0])*x_vec[j][i]\n",
    "        dj_dw[i]=dj_dw[i]*l*(1/len(data))\n",
    "    for i in range(len(data)):\n",
    "        dj_db+=((np.dot(w_c,x_vec[i])+b_c)-y_vec[i][0])\n",
    "    dj_db=dj_db*l*(1/len(data))\n",
    "    \n",
    "    w_vec=w_c-dj_dw\n",
    "    b=b_c-dj_db\n",
    "    return w_vec,b"
   ]
  },
  {
   "cell_type": "code",
   "execution_count": 9,
   "id": "9ee033f7",
   "metadata": {},
   "outputs": [],
   "source": [
    "b=0\n",
    "l=10**-8\n",
    "epochs=20000\n",
    "costs=[]\n"
   ]
  },
  {
   "cell_type": "code",
   "execution_count": 10,
   "id": "aaacf51e",
   "metadata": {},
   "outputs": [],
   "source": [
    "for i in range(epochs):\n",
    "    w_vec,b=grad_descent(w_vec,b,l)\n",
    "    j1=cost_fn(w_vec,b)\n",
    "    costs.append(j1)"
   ]
  },
  {
   "cell_type": "code",
   "execution_count": 11,
   "id": "4be537ab",
   "metadata": {},
   "outputs": [
    {
     "name": "stdout",
     "output_type": "stream",
     "text": [
      "[  4.63435579  68.10069741   1.04198846 110.49781707  49.00752197\n",
      "  -6.05746109   0.70742981  -0.25043509   9.58998014 -19.39466633]\n"
     ]
    }
   ],
   "source": [
    "print(w_vec)"
   ]
  },
  {
   "cell_type": "code",
   "execution_count": 12,
   "id": "c2fd2b62",
   "metadata": {},
   "outputs": [
    {
     "name": "stdout",
     "output_type": "stream",
     "text": [
      "-0.043467719193381125\n"
     ]
    }
   ],
   "source": [
    "print(b)"
   ]
  },
  {
   "cell_type": "code",
   "execution_count": 13,
   "id": "ac2a86be",
   "metadata": {},
   "outputs": [
    {
     "data": {
      "image/png": "[encoded data removed]",
      "text/plain": [
       "<Figure size 640x480 with 1 Axes>"
      ]
     },
     "metadata": {},
     "output_type": "display_data"
    }
   ],
   "source": [
    "plt.plot(list(range(epochs)),costs,color=\"blue\")\n",
    "plt.show()"
   ]
  },
  {
   "cell_type": "code",
   "execution_count": 14,
   "id": "1156eb6b",
   "metadata": {},
   "outputs": [
    {
     "data": {
      "text/html": [
       "<div>\n",
       "<style scoped>\n",
       "    .dataframe tbody tr th:only-of-type {\n",
       "        vertical-align: middle;\n",
       "    }\n",
       "\n",
       "    .dataframe tbody tr th {\n",
       "        vertical-align: top;\n",
       "    }\n",
       "\n",
       "    .dataframe thead th {\n",
       "        text-align: right;\n",
       "    }\n",
       "</style>\n",
       "<table border=\"1\" class=\"dataframe\">\n",
       "  <thead>\n",
       "    <tr style=\"text-align: right;\">\n",
       "      <th></th>\n",
       "      <th>OverallQual</th>\n",
       "      <th>GrLivArea</th>\n",
       "      <th>GarageCars</th>\n",
       "      <th>GarageArea</th>\n",
       "      <th>TotalBsmtSF</th>\n",
       "      <th>1stFlrSF</th>\n",
       "      <th>FullBath</th>\n",
       "      <th>TotRmsAbvGrd</th>\n",
       "      <th>YearBuilt</th>\n",
       "      <th>YearRemodAdd</th>\n",
       "      <th>SalePrice</th>\n",
       "    </tr>\n",
       "  </thead>\n",
       "  <tbody>\n",
       "    <tr>\n",
       "      <th>0</th>\n",
       "      <td>8</td>\n",
       "      <td>1970</td>\n",
       "      <td>3</td>\n",
       "      <td>753</td>\n",
       "      <td>1085</td>\n",
       "      <td>1120</td>\n",
       "      <td>2</td>\n",
       "      <td>8</td>\n",
       "      <td>2006</td>\n",
       "      <td>2006</td>\n",
       "      <td>281000</td>\n",
       "    </tr>\n",
       "    <tr>\n",
       "      <th>1</th>\n",
       "      <td>6</td>\n",
       "      <td>1632</td>\n",
       "      <td>1</td>\n",
       "      <td>338</td>\n",
       "      <td>1240</td>\n",
       "      <td>1632</td>\n",
       "      <td>2</td>\n",
       "      <td>6</td>\n",
       "      <td>1958</td>\n",
       "      <td>1988</td>\n",
       "      <td>139000</td>\n",
       "    </tr>\n",
       "    <tr>\n",
       "      <th>2</th>\n",
       "      <td>7</td>\n",
       "      <td>1223</td>\n",
       "      <td>2</td>\n",
       "      <td>480</td>\n",
       "      <td>600</td>\n",
       "      <td>520</td>\n",
       "      <td>2</td>\n",
       "      <td>4</td>\n",
       "      <td>2005</td>\n",
       "      <td>2005</td>\n",
       "      <td>147400</td>\n",
       "    </tr>\n",
       "    <tr>\n",
       "      <th>3</th>\n",
       "      <td>5</td>\n",
       "      <td>1559</td>\n",
       "      <td>2</td>\n",
       "      <td>812</td>\n",
       "      <td>1559</td>\n",
       "      <td>1559</td>\n",
       "      <td>1</td>\n",
       "      <td>5</td>\n",
       "      <td>1948</td>\n",
       "      <td>1973</td>\n",
       "      <td>153500</td>\n",
       "    </tr>\n",
       "    <tr>\n",
       "      <th>4</th>\n",
       "      <td>4</td>\n",
       "      <td>630</td>\n",
       "      <td>1</td>\n",
       "      <td>286</td>\n",
       "      <td>630</td>\n",
       "      <td>630</td>\n",
       "      <td>1</td>\n",
       "      <td>3</td>\n",
       "      <td>1970</td>\n",
       "      <td>2002</td>\n",
       "      <td>86000</td>\n",
       "    </tr>\n",
       "  </tbody>\n",
       "</table>\n",
       "</div>"
      ],
      "text/plain": [
       "   OverallQual  GrLivArea  GarageCars  GarageArea  TotalBsmtSF  1stFlrSF  \\\n",
       "0            8       1970           3         753         1085      1120   \n",
       "1            6       1632           1         338         1240      1632   \n",
       "2            7       1223           2         480          600       520   \n",
       "3            5       1559           2         812         1559      1559   \n",
       "4            4        630           1         286          630       630   \n",
       "\n",
       "   FullBath  TotRmsAbvGrd  YearBuilt  YearRemodAdd  SalePrice  \n",
       "0         2             8       2006          2006     281000  \n",
       "1         2             6       1958          1988     139000  \n",
       "2         2             4       2005          2005     147400  \n",
       "3         1             5       1948          1973     153500  \n",
       "4         1             3       1970          2002      86000  "
      ]
     },
     "execution_count": 14,
     "metadata": {},
     "output_type": "execute_result"
    }
   ],
   "source": [
    "test=pd.read_csv('test.csv')\n",
    "test.head()"
   ]
  },
  {
   "cell_type": "code",
   "execution_count": 15,
   "id": "67957bc0",
   "metadata": {},
   "outputs": [],
   "source": [
    "x_test=np.zeros((292,10))\n",
    "y_test=np.zeros((292,1))"
   ]
  },
  {
   "cell_type": "code",
   "execution_count": 16,
   "id": "d5740c59",
   "metadata": {},
   "outputs": [],
   "source": [
    "for i in range(len(test)):\n",
    "    y_test[i][0]=test.iloc[i,10]\n"
   ]
  },
  {
   "cell_type": "code",
   "execution_count": 17,
   "id": "2fd43332",
   "metadata": {},
   "outputs": [
    {
     "name": "stdout",
     "output_type": "stream",
     "text": [
      "[[8.000e+00 1.970e+03 3.000e+00 ... 8.000e+00 2.006e+03 2.006e+03]\n",
      " [6.000e+00 1.632e+03 1.000e+00 ... 6.000e+00 1.958e+03 1.988e+03]\n",
      " [7.000e+00 1.223e+03 2.000e+00 ... 4.000e+00 2.005e+03 2.005e+03]\n",
      " ...\n",
      " [6.000e+00 8.480e+02 2.000e+00 ... 4.000e+00 2.003e+03 2.003e+03]\n",
      " [7.000e+00 1.266e+03 2.000e+00 ... 6.000e+00 2.007e+03 2.007e+03]\n",
      " [6.000e+00 1.484e+03 2.000e+00 ... 8.000e+00 2.005e+03 2.007e+03]]\n"
     ]
    }
   ],
   "source": [
    "for i in range(len(test)):\n",
    "    for j in range(10):\n",
    "        x_test[i][j]=test.iloc[i,j]\n",
    "print(x_test)"
   ]
  },
  {
   "cell_type": "code",
   "execution_count": 21,
   "id": "3627b3e5",
   "metadata": {},
   "outputs": [],
   "source": [
    "from sklearn.metrics import r2_score"
   ]
  },
  {
   "cell_type": "code",
   "execution_count": 22,
   "id": "118a2232",
   "metadata": {},
   "outputs": [],
   "source": [
    "y_predict=np.zeros((len(test),1))"
   ]
  },
  {
   "cell_type": "code",
   "execution_count": 23,
   "id": "2a6aa866",
   "metadata": {},
   "outputs": [],
   "source": [
    "for i in range(len(test)):\n",
    "    y_predict[i]=np.dot(x_test[i],w_vec)+b\n"
   ]
  },
  {
   "cell_type": "code",
   "execution_count": 24,
   "id": "6f9d87f3",
   "metadata": {},
   "outputs": [
    {
     "name": "stdout",
     "output_type": "stream",
     "text": [
      "Coefficient of Determination 0.671942691438387\n"
     ]
    }
   ],
   "source": [
    "R_square = r2_score(y_test,y_predict) \n",
    "print('Coefficient of Determination', R_square)"
   ]
  },
  {
   "cell_type": "code",
   "execution_count": null,
   "id": "5707306e",
   "metadata": {},
   "outputs": [],
   "source": []
  }
 ],
 "metadata": {
  "kernelspec": {
   "display_name": "Python 3 (ipykernel)",
   "language": "python",
   "name": "python3"
  },
  "language_info": {
   "codemirror_mode": {
    "name": "ipython",
    "version": 3
   },
   "file_extension": ".py",
   "mimetype": "text/x-python",
   "name": "python",
   "nbconvert_exporter": "python",
   "pygments_lexer": "ipython3",
   "version": "3.9.6"
  }
 },
 "nbformat": 4,
 "nbformat_minor": 5
}
