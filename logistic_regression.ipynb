{
 "cells": [
  {
   "cell_type": "code",
   "execution_count": 1,
   "id": "fd8a7c70",
   "metadata": {},
   "outputs": [],
   "source": [
    "import pandas as pd\n",
    "import numpy as np\n",
    "import matplotlib.pyplot as plt"
   ]
  },
  {
   "cell_type": "code",
   "execution_count": 2,
   "id": "f4a96927",
   "metadata": {},
   "outputs": [
    {
     "data": {
      "text/html": [
       "<div>\n",
       "<style scoped>\n",
       "    .dataframe tbody tr th:only-of-type {\n",
       "        vertical-align: middle;\n",
       "    }\n",
       "\n",
       "    .dataframe tbody tr th {\n",
       "        vertical-align: top;\n",
       "    }\n",
       "\n",
       "    .dataframe thead th {\n",
       "        text-align: right;\n",
       "    }\n",
       "</style>\n",
       "<table border=\"1\" class=\"dataframe\">\n",
       "  <thead>\n",
       "    <tr style=\"text-align: right;\">\n",
       "      <th></th>\n",
       "      <th>Survived</th>\n",
       "      <th>Pclass</th>\n",
       "      <th>Name</th>\n",
       "      <th>Sex</th>\n",
       "      <th>Age</th>\n",
       "      <th>Siblings/Spouses Aboard</th>\n",
       "      <th>Parents/Children Aboard</th>\n",
       "      <th>Fare</th>\n",
       "    </tr>\n",
       "  </thead>\n",
       "  <tbody>\n",
       "    <tr>\n",
       "      <th>0</th>\n",
       "      <td>0</td>\n",
       "      <td>3</td>\n",
       "      <td>Mr. Owen Harris Braund</td>\n",
       "      <td>male</td>\n",
       "      <td>22.0</td>\n",
       "      <td>1</td>\n",
       "      <td>0</td>\n",
       "      <td>7.2500</td>\n",
       "    </tr>\n",
       "    <tr>\n",
       "      <th>1</th>\n",
       "      <td>1</td>\n",
       "      <td>1</td>\n",
       "      <td>Mrs. John Bradley (Florence Briggs Thayer) Cum...</td>\n",
       "      <td>female</td>\n",
       "      <td>38.0</td>\n",
       "      <td>1</td>\n",
       "      <td>0</td>\n",
       "      <td>71.2833</td>\n",
       "    </tr>\n",
       "    <tr>\n",
       "      <th>2</th>\n",
       "      <td>1</td>\n",
       "      <td>3</td>\n",
       "      <td>Miss. Laina Heikkinen</td>\n",
       "      <td>female</td>\n",
       "      <td>26.0</td>\n",
       "      <td>0</td>\n",
       "      <td>0</td>\n",
       "      <td>7.9250</td>\n",
       "    </tr>\n",
       "    <tr>\n",
       "      <th>3</th>\n",
       "      <td>1</td>\n",
       "      <td>1</td>\n",
       "      <td>Mrs. Jacques Heath (Lily May Peel) Futrelle</td>\n",
       "      <td>female</td>\n",
       "      <td>35.0</td>\n",
       "      <td>1</td>\n",
       "      <td>0</td>\n",
       "      <td>53.1000</td>\n",
       "    </tr>\n",
       "    <tr>\n",
       "      <th>4</th>\n",
       "      <td>0</td>\n",
       "      <td>3</td>\n",
       "      <td>Mr. William Henry Allen</td>\n",
       "      <td>male</td>\n",
       "      <td>35.0</td>\n",
       "      <td>0</td>\n",
       "      <td>0</td>\n",
       "      <td>8.0500</td>\n",
       "    </tr>\n",
       "  </tbody>\n",
       "</table>\n",
       "</div>"
      ],
      "text/plain": [
       "   Survived  Pclass                                               Name  \\\n",
       "0         0       3                             Mr. Owen Harris Braund   \n",
       "1         1       1  Mrs. John Bradley (Florence Briggs Thayer) Cum...   \n",
       "2         1       3                              Miss. Laina Heikkinen   \n",
       "3         1       1        Mrs. Jacques Heath (Lily May Peel) Futrelle   \n",
       "4         0       3                            Mr. William Henry Allen   \n",
       "\n",
       "      Sex   Age  Siblings/Spouses Aboard  Parents/Children Aboard     Fare  \n",
       "0    male  22.0                        1                        0   7.2500  \n",
       "1  female  38.0                        1                        0  71.2833  \n",
       "2  female  26.0                        0                        0   7.9250  \n",
       "3  female  35.0                        1                        0  53.1000  \n",
       "4    male  35.0                        0                        0   8.0500  "
      ]
     },
     "execution_count": 2,
     "metadata": {},
     "output_type": "execute_result"
    }
   ],
   "source": [
    "train=pd.read_csv('train.csv')\n",
    "train.head()"
   ]
  },
  {
   "cell_type": "code",
   "execution_count": 3,
   "id": "43588fbf",
   "metadata": {},
   "outputs": [],
   "source": [
    "r,c=train.shape"
   ]
  },
  {
   "cell_type": "code",
   "execution_count": 4,
   "id": "df73a1bb",
   "metadata": {},
   "outputs": [],
   "source": [
    "for i in range(r):\n",
    "    if train.iloc[i,3] == 'male':\n",
    "        train.iloc[i,3]=1\n",
    "    elif train.iloc[i,3] == 'female':\n",
    "        train.iloc[i,3]=0"
   ]
  },
  {
   "cell_type": "code",
   "execution_count": 5,
   "id": "b07abece",
   "metadata": {},
   "outputs": [],
   "source": [
    "y_train=np.zeros((r,1))\n",
    "x_train=np.zeros((r,6))\n",
    "costs=[]"
   ]
  },
  {
   "cell_type": "code",
   "execution_count": 6,
   "id": "a79473aa",
   "metadata": {},
   "outputs": [],
   "source": [
    "for i in range(r):\n",
    "    y_train[i][0]=train.iloc[i,0]\n",
    "for i in range(r):\n",
    "    k=0\n",
    "    for j in range(1,8):\n",
    "        if j==2:\n",
    "            continue\n",
    "        x_train[i][k]=train.iloc[i,j]\n",
    "        k=k+1"
   ]
  },
  {
   "cell_type": "code",
   "execution_count": 7,
   "id": "63ba5828",
   "metadata": {},
   "outputs": [],
   "source": [
    "def sigmoid(z):\n",
    "    sig=1/(1+np.exp(-z))\n",
    "    return sig"
   ]
  },
  {
   "cell_type": "code",
   "execution_count": 8,
   "id": "5e89d5cd",
   "metadata": {},
   "outputs": [],
   "source": [
    "def cost_fn(w,b,x,y,data):\n",
    "    j=0\n",
    "    for i in range(len(data)):\n",
    "        z=np.dot(w,x[i])+b\n",
    "        sig=sigmoid(z)\n",
    "        j=j+((y[i]*np.log(sig))+((1-y[i])*np.log(1-sig)))\n",
    "    \n",
    "    j=-j/len(data)\n",
    "    return j"
   ]
  },
  {
   "cell_type": "code",
   "execution_count": 9,
   "id": "f58cd759",
   "metadata": {},
   "outputs": [],
   "source": [
    "def grad_descent(w,b,l,x,y,data):\n",
    "    dj_dw=np.zeros(6)\n",
    "    dj_db=0\n",
    "    for i in range(6):\n",
    "        for j in range(len(data)):\n",
    "            z=np.dot(w,x[j])+b\n",
    "            sig=sigmoid(z)\n",
    "            dj_dw[i]+=(sig-y[j])*x[j][i]\n",
    "            \n",
    "    for i in range(len(data)):\n",
    "            z=np.dot(w,x[i])+b\n",
    "            sig=sigmoid(z)\n",
    "            dj_db+=(sig-y[i][0])\n",
    "    \n",
    "    dj_dw=dj_dw*l*(1/len(data))\n",
    "    dj_db=dj_db*l*(1/len(data))\n",
    "    \n",
    "    w = w - dj_dw\n",
    "    b=b - dj_db\n",
    "    \n",
    "    return w,b"
   ]
  },
  {
   "cell_type": "code",
   "execution_count": 10,
   "id": "6e5f2367",
   "metadata": {},
   "outputs": [],
   "source": [
    "w_vec=np.zeros(6)\n",
    "b=0\n",
    "l=0.005\n",
    "epochs=20000\n",
    "costs=[]"
   ]
  },
  {
   "cell_type": "code",
   "execution_count": 11,
   "id": "67dbc2b9",
   "metadata": {},
   "outputs": [],
   "source": [
    "for i in range(epochs):\n",
    "    w_vec,b=grad_descent(w_vec,b,l,x_train,y_train,train)\n",
    "    j=cost_fn(w_vec,b,x_train,y_train,train)\n",
    "    costs.append(j)\n",
    "    "
   ]
  },
  {
   "cell_type": "code",
   "execution_count": 12,
   "id": "50cb8fce",
   "metadata": {},
   "outputs": [
    {
     "name": "stdout",
     "output_type": "stream",
     "text": [
      "[-1.53614371e-01 -2.54998074e+00 -2.57802280e-03 -4.06758905e-01\n",
      "  1.05051202e-03  2.77885909e-02]\n",
      "1.43567027677422\n"
     ]
    }
   ],
   "source": [
    "print(w_vec)\n",
    "print(b)"
   ]
  },
  {
   "cell_type": "code",
   "execution_count": 13,
   "id": "a87940e6",
   "metadata": {},
   "outputs": [
    {
     "data": {
      "text/plain": [
       "(310, 8)"
      ]
     },
     "execution_count": 13,
     "metadata": {},
     "output_type": "execute_result"
    }
   ],
   "source": [
    "test=pd.read_csv('test.csv')\n",
    "test.shape"
   ]
  },
  {
   "cell_type": "code",
   "execution_count": 14,
   "id": "1fdd103a",
   "metadata": {},
   "outputs": [],
   "source": [
    "for i in range(310):\n",
    "    if test.iloc[i,3] == 'male':\n",
    "        test.iloc[i,3]=1\n",
    "    elif test.iloc[i,3] == 'female':\n",
    "        test.iloc[i,3]=0"
   ]
  },
  {
   "cell_type": "code",
   "execution_count": 15,
   "id": "15d88104",
   "metadata": {},
   "outputs": [],
   "source": [
    "y_test=np.zeros((310))\n",
    "x_test=np.zeros((310,6))"
   ]
  },
  {
   "cell_type": "code",
   "execution_count": 16,
   "id": "0b768cb8",
   "metadata": {},
   "outputs": [],
   "source": [
    "for i in range(310):\n",
    "    y_test[i]=test.iloc[i,0]\n",
    "for i in range(310):\n",
    "    k=0\n",
    "    for j in range(1,8):\n",
    "        if j==2:\n",
    "            continue\n",
    "        x_test[i][k]=test.iloc[i,j]\n",
    "        k=k+1"
   ]
  },
  {
   "cell_type": "code",
   "execution_count": 17,
   "id": "b76010da",
   "metadata": {},
   "outputs": [
    {
     "data": {
      "text/plain": [
       "245"
      ]
     },
     "execution_count": 17,
     "metadata": {},
     "output_type": "execute_result"
    }
   ],
   "source": [
    "y_predict=np.zeros(len(x_test))\n",
    "for i in  range(len(x_test)):        \n",
    "    z=np.dot(w_vec,x_test[i])+b\n",
    "    sig=sigmoid(z)\n",
    "    if sig>=0.5:\n",
    "        y_predict[i]=1\n",
    "    else:\n",
    "        y_predict[i]=0\n",
    "\n",
    "sum(y_test==y_predict)"
   ]
  },
  {
   "cell_type": "code",
   "execution_count": 18,
   "id": "22cee190",
   "metadata": {},
   "outputs": [
    {
     "name": "stdout",
     "output_type": "stream",
     "text": [
      "79.03225806451613\n"
     ]
    }
   ],
   "source": [
    "accuracy=(sum(y_test==y_predict)/len(test))*100\n",
    "print(accuracy)"
   ]
  }
 ],
 "metadata": {
  "kernelspec": {
   "display_name": "Python 3 (ipykernel)",
   "language": "python",
   "name": "python3"
  },
  "language_info": {
   "codemirror_mode": {
    "name": "ipython",
    "version": 3
   },
   "file_extension": ".py",
   "mimetype": "text/x-python",
   "name": "python",
   "nbconvert_exporter": "python",
   "pygments_lexer": "ipython3",
   "version": "3.9.6"
  }
 },
 "nbformat": 4,
 "nbformat_minor": 5
}
